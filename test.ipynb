{
 "cells": [
  {
   "cell_type": "code",
   "execution_count": 2,
   "metadata": {},
   "outputs": [
    {
     "name": "stderr",
     "output_type": "stream",
     "text": [
      "/home/daniel/miniconda3/envs/eval/lib/python3.10/site-packages/tqdm/auto.py:21: TqdmWarning: IProgress not found. Please update jupyter and ipywidgets. See https://ipywidgets.readthedocs.io/en/stable/user_install.html\n",
      "  from .autonotebook import tqdm as notebook_tqdm\n",
      "Resolving data files: 100%|██████████| 144/144 [00:02<00:00, 51.38it/s]\n"
     ]
    }
   ],
   "source": [
    "from datasets import load_dataset\n",
    "\n",
    "ds = load_dataset(\"bigcode/the-stack-dedup\", data_dir=\"data/python\", split=\"train\")"
   ]
  },
  {
   "cell_type": "code",
   "execution_count": 4,
   "metadata": {},
   "outputs": [
    {
     "name": "stdout",
     "output_type": "stream",
     "text": [
      "Samples added: 0\n",
      "Samples added: 1000\n",
      "Samples added: 2000\n",
      "Samples added: 2000\n",
      "Samples added: 2000\n",
      "Samples added: 2000\n",
      "Samples added: 2000\n",
      "Samples added: 2000\n",
      "Samples added: 2000\n",
      "Samples added: 2000\n",
      "Samples added: 2000\n",
      "Samples added: 3000\n",
      "Samples added: 4000\n",
      "Samples added: 4000\n",
      "Samples added: 4000\n",
      "Samples added: 5000\n",
      "Samples added: 5000\n",
      "Samples added: 6000\n",
      "Samples added: 6000\n",
      "Samples added: 6000\n",
      "Samples added: 6000\n",
      "Samples added: 6000\n",
      "Samples added: 6000\n",
      "Samples added: 7000\n",
      "Samples added: 7000\n",
      "Samples added: 7000\n",
      "Samples added: 7000\n",
      "Samples added: 8000\n",
      "Samples added: 8000\n",
      "Samples added: 9000\n",
      "Samples added: 9000\n",
      "Samples added: 9000\n",
      "Samples added: 9000\n",
      "Samples added: 9000\n",
      "Samples added: 9000\n",
      "Samples added: 10000\n",
      "Samples added: 10000\n",
      "Samples added: 10000\n",
      "Samples added: 10000\n",
      "Samples added: 11000\n",
      "Samples added: 11000\n",
      "Samples added: 12000\n",
      "Samples added: 13000\n",
      "Samples added: 13000\n",
      "Samples added: 13000\n",
      "Samples added: 13000\n",
      "Samples added: 14000\n",
      "Samples added: 14000\n",
      "Samples added: 14000\n",
      "Samples added: 14000\n",
      "Samples added: 14000\n",
      "Samples added: 14000\n",
      "Samples added: 14000\n",
      "Samples added: 15000\n",
      "Samples added: 15000\n",
      "Samples added: 15000\n",
      "Samples added: 16000\n",
      "Samples added: 16000\n",
      "Samples added: 16000\n",
      "Samples added: 16000\n",
      "Samples added: 17000\n",
      "Samples added: 17000\n",
      "Samples added: 17000\n",
      "Samples added: 18000\n",
      "Samples added: 19000\n",
      "Samples added: 19000\n",
      "Samples added: 20000\n",
      "Samples added: 21000\n",
      "Samples added: 21000\n",
      "Samples added: 21000\n",
      "Samples added: 21000\n",
      "Samples added: 22000\n",
      "Samples added: 22000\n",
      "Samples added: 22000\n",
      "Samples added: 23000\n",
      "Samples added: 24000\n",
      "Samples added: 25000\n",
      "Samples added: 25000\n",
      "Samples added: 26000\n",
      "Samples added: 27000\n",
      "Samples added: 28000\n",
      "Samples added: 28000\n",
      "Samples added: 28000\n",
      "Samples added: 28000\n",
      "Samples added: 28000\n",
      "Samples added: 29000\n",
      "Samples added: 29000\n",
      "Samples added: 30000\n",
      "Samples added: 31000\n",
      "Samples added: 31000\n",
      "Samples added: 32000\n",
      "Samples added: 32000\n",
      "Samples added: 33000\n",
      "Samples added: 34000\n",
      "Samples added: 34000\n",
      "Samples added: 34000\n",
      "Samples added: 34000\n",
      "Samples added: 35000\n",
      "Samples added: 35000\n",
      "Samples added: 35000\n",
      "Samples added: 35000\n",
      "Samples added: 35000\n",
      "Samples added: 36000\n",
      "Samples added: 36000\n",
      "Samples added: 37000\n",
      "Samples added: 37000\n",
      "Samples added: 37000\n",
      "Samples added: 37000\n",
      "Samples added: 38000\n",
      "Samples added: 38000\n",
      "Samples added: 38000\n",
      "Samples added: 38000\n",
      "Samples added: 38000\n",
      "Samples added: 39000\n",
      "Samples added: 40000\n",
      "Samples added: 41000\n",
      "Samples added: 42000\n",
      "Samples added: 42000\n",
      "Samples added: 43000\n",
      "Samples added: 44000\n",
      "Samples added: 44000\n",
      "Samples added: 44000\n",
      "Samples added: 44000\n",
      "Samples added: 45000\n",
      "Samples added: 45000\n",
      "Samples added: 45000\n",
      "Samples added: 45000\n",
      "Samples added: 46000\n",
      "Samples added: 46000\n",
      "Samples added: 47000\n",
      "Samples added: 48000\n",
      "Samples added: 48000\n",
      "Samples added: 48000\n",
      "Samples added: 48000\n",
      "Samples added: 48000\n",
      "Samples added: 48000\n",
      "Samples added: 48000\n",
      "Samples added: 49000\n",
      "Samples added: 49000\n",
      "Samples added: 49000\n"
     ]
    }
   ],
   "source": [
    "import pandas as pd\n",
    "from transformers import AutoTokenizer\n",
    "\n",
    "checkpoint = \"bigcode/starcoder\"\n",
    "tokenizer = AutoTokenizer.from_pretrained(checkpoint)\n",
    "\n",
    "n_samples = 50000\n",
    "n_token_max = 500\n",
    "n_token_min = 50\n",
    "\n",
    "samples = []\n",
    "\n",
    "for sample in ds:\n",
    "    tokens = tokenizer.encode(sample[\"content\"])\n",
    "    if len(tokens) < n_token_max and len(tokens) > n_token_min:\n",
    "        samples.append({\n",
    "            \"hexsha\": sample[\"hexsha\"],\n",
    "            \"size\": sample[\"size\"],\n",
    "            \"content\": sample[\"content\"]\n",
    "        })\n",
    "    if len(samples) == n_samples:\n",
    "        break\n",
    "    elif (len(samples) % 1000) == 0:\n",
    "        print(\"Samples added: \" + str(len(samples)))\n",
    "\n",
    "df = pd.DataFrame(samples)\n",
    "df[\"prediction_50\"] = None\n",
    "df[\"prefix_50\"] = None\n",
    "df[\"bleu_50\"] = None\n",
    "df.to_csv(\"samples.csv\", index=False, )"
   ]
  },
  {
   "cell_type": "code",
   "execution_count": 5,
   "metadata": {},
   "outputs": [
    {
     "name": "stdout",
     "output_type": "stream",
     "text": [
      "hello\n"
     ]
    }
   ],
   "source": [
    "print(\"hello\")"
   ]
  },
  {
   "cell_type": "code",
   "execution_count": 8,
   "metadata": {},
   "outputs": [],
   "source": [
    "import pandas as pd\n",
    "\n",
    "df = pd.read_csv(\"samples.csv\")"
   ]
  },
  {
   "cell_type": "code",
   "execution_count": 10,
   "metadata": {},
   "outputs": [],
   "source": [
    "block_df = df.loc[~df.prediction_50.isna()]"
   ]
  },
  {
   "cell_type": "code",
   "execution_count": 12,
   "metadata": {},
   "outputs": [
    {
     "data": {
      "text/plain": [
       "<Axes: >"
      ]
     },
     "execution_count": 12,
     "metadata": {},
     "output_type": "execute_result"
    },
    {
     "data": {
      "image/png": "[encoded data removed]",
      "text/plain": [
       "<Figure size 640x480 with 1 Axes>"
      ]
     },
     "metadata": {},
     "output_type": "display_data"
    }
   ],
   "source": [
    "block_df.bleu_50.hist()"
   ]
  }
 ],
 "metadata": {
  "kernelspec": {
   "display_name": "eval",
   "language": "python",
   "name": "python3"
  },
  "language_info": {
   "codemirror_mode": {
    "name": "ipython",
    "version": 3
   },
   "file_extension": ".py",
   "mimetype": "text/x-python",
   "name": "python",
   "nbconvert_exporter": "python",
   "pygments_lexer": "ipython3",
   "version": "3.10.13"
  },
  "orig_nbformat": 4
 },
 "nbformat": 4,
 "nbformat_minor": 2
}
